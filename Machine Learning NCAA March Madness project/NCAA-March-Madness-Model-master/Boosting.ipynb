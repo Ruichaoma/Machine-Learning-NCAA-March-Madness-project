{
 "cells": [
  {
   "cell_type": "code",
   "execution_count": 196,
   "metadata": {
    "scrolled": true
   },
   "outputs": [],
   "source": [
    "import numpy as np\n",
    "import pandas as pd\n",
    "import random\n",
    "from random import randint\n",
    "from sklearn.ensemble import RandomForestClassifier\n",
    "from sklearn.model_selection import train_test_split\n",
    "from sklearn.metrics import mean_squared_error\n",
    "from sklearn.metrics import log_loss\n",
    "from sklearn.ensemble import AdaBoostClassifier\n",
    "from sklearn.tree import DecisionTreeClassifier\n",
    "from sklearn.ensemble import GradientBoostingClassifier"
   ]
  },
  {
   "cell_type": "code",
   "execution_count": 96,
   "metadata": {
    "scrolled": true
   },
   "outputs": [],
   "source": [
    "df = pd.read_csv('https://raw.githubusercontent.com/brusso115/NCAA-March-Madness-Model/master/Data-Cleaning/2018Results_averages_withconferances.csv')\n",
    "df = df.drop([\"TgameScore\",\"OgameScore\"],axis=1)"
   ]
  },
  {
   "cell_type": "code",
   "execution_count": 199,
   "metadata": {
    "scrolled": true
   },
   "outputs": [],
   "source": [
    "X = df.iloc[:,6:]\n",
    "y = df[\"W\"]\n",
    "X_train, X_test, y_train, y_test = train_test_split(X, y, test_size=0.33)"
   ]
  },
  {
   "cell_type": "code",
   "execution_count": 200,
   "metadata": {},
   "outputs": [
    {
     "name": "stdout",
     "output_type": "stream",
     "text": [
      "AdaBoost\n",
      "          0    1\n",
      "0  0.496600  0.0\n",
      "1  0.497447  0.0\n",
      "2  0.491365  0.0\n",
      "3  0.499685  0.0\n",
      "4  0.497699  0.0\n",
      "5  0.505116  1.0\n",
      "6  0.500919  0.0\n",
      "7  0.501155  1.0\n",
      "8  0.513791  1.0\n",
      "9  0.511277  0.0\n",
      "\n",
      "log loss:  0.6863\n",
      "accuracy:  69.45%\n",
      "\n",
      "GradientBoost\n",
      "          0    1\n",
      "0  0.390194  0.0\n",
      "1  0.488229  0.0\n",
      "2  0.185315  0.0\n",
      "3  0.559575  0.0\n",
      "4  0.274524  0.0\n",
      "5  0.636153  1.0\n",
      "6  0.469373  0.0\n",
      "7  0.557616  1.0\n",
      "8  0.821620  1.0\n",
      "9  0.787484  0.0\n",
      "\n",
      "log loss:  0.5803\n",
      "accuracy;  70.24%\n"
     ]
    }
   ],
   "source": [
    "boostada = AdaBoostClassifier()\n",
    "boostgrad = GradientBoostingClassifier()\n",
    "modelada = boostada.fit(X_train, y_train)\n",
    "modelgrad = boostgrad.fit(X_train, y_train)\n",
    "predsada = boostada.predict_proba(X_test)[:,1]\n",
    "predsgrad = boostgrad.predict_proba(X_test)[:,1]\n",
    "print(\"AdaBoost\")\n",
    "resultdf = pd.DataFrame(np.array([predsada,y_test]).transpose())\n",
    "print(resultdf.head(10))\n",
    "correct = 0\n",
    "for i in range(len(resultdf)):\n",
    "    if resultdf.iloc[i][0] < 0.5:\n",
    "        if resultdf.iloc[i][1] == 0.0:\n",
    "            correct += 1\n",
    "    else:\n",
    "        if resultdf.iloc[i][1] == 1.0:\n",
    "            correct += 1\n",
    "print(\"\\nlog loss: \",round(log_loss(y_test, predsada),4))\n",
    "print(\"accuracy: \",\"{:.2%}\".format(correct/len(resultdf)))\n",
    "\n",
    "print(\"\\nGradientBoost\")\n",
    "resultdf = pd.DataFrame(np.array([predsgrad,y_test]).transpose())\n",
    "print(resultdf.head(10))\n",
    "correct = 0\n",
    "for i in range(len(resultdf)):\n",
    "    if resultdf.iloc[i][0] < 0.5:\n",
    "        if resultdf.iloc[i][1] == 0.0:\n",
    "            correct += 1\n",
    "    else:\n",
    "        if resultdf.iloc[i][1] == 1.0:\n",
    "            correct += 1\n",
    "print(\"\\nlog loss: \",round(log_loss(y_test, predsgrad),4))\n",
    "print(\"accuracy; \",\"{:.2%}\".format(correct/len(resultdf)))\n"
   ]
  }
 ],
 "metadata": {
  "kernelspec": {
   "display_name": "Python 3",
   "language": "python",
   "name": "python3"
  },
  "language_info": {
   "codemirror_mode": {
    "name": "ipython",
    "version": 3
   },
   "file_extension": ".py",
   "mimetype": "text/x-python",
   "name": "python",
   "nbconvert_exporter": "python",
   "pygments_lexer": "ipython3",
   "version": "3.7.3"
  },
  "varInspector": {
   "cols": {
    "lenName": 16,
    "lenType": 16,
    "lenVar": 40
   },
   "kernels_config": {
    "python": {
     "delete_cmd_postfix": "",
     "delete_cmd_prefix": "del ",
     "library": "var_list.py",
     "varRefreshCmd": "print(var_dic_list())"
    },
    "r": {
     "delete_cmd_postfix": ") ",
     "delete_cmd_prefix": "rm(",
     "library": "var_list.r",
     "varRefreshCmd": "cat(var_dic_list()) "
    }
   },
   "types_to_exclude": [
    "module",
    "function",
    "builtin_function_or_method",
    "instance",
    "_Feature"
   ],
   "window_display": false
  }
 },
 "nbformat": 4,
 "nbformat_minor": 2
}
