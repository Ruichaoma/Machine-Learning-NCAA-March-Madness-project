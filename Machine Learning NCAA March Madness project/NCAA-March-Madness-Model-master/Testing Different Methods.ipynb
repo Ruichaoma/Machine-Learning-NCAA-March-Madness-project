{
 "cells": [
  {
   "cell_type": "code",
   "execution_count": 880,
   "metadata": {},
   "outputs": [],
   "source": [
    "import pandas as pd\n",
    "import numpy as np\n",
    "from random import randint\n",
    "from sklearn.ensemble import RandomForestClassifier\n",
    "from sklearn.model_selection import train_test_split\n",
    "from sklearn.metrics import mean_squared_error\n",
    "from sklearn.metrics import log_loss\n",
    "from sklearn.ensemble import AdaBoostClassifier\n",
    "from sklearn.tree import DecisionTreeClassifier\n",
    "from sklearn.ensemble import GradientBoostingClassifier\n",
    "from sklearn.neighbors import KNeighborsClassifier\n",
    "from sklearn.neighbors import KNeighborsRegressor\n",
    "from sklearn.ensemble import BaggingClassifier\n",
    "from sklearn.feature_selection import SelectKBest\n",
    "from sklearn.feature_selection import f_classif\n",
    "from sklearn.model_selection import StratifiedKFold\n",
    "from sklearn.preprocessing import StandardScaler\n",
    "from sklearn.neighbors import KNeighborsClassifier\n",
    "from sklearn.pipeline import make_pipeline \n",
    "import matplotlib.pyplot as plt\n",
    "from sklearn.model_selection import learning_curve\n",
    "from sklearn.model_selection import validation_curve\n",
    "df2 = pd.read_csv(\"https://raw.githubusercontent.com/brusso115/NCAA-March-Madness-Model/master/Data-Cleaning/data_cleaned.csv\")\n",
    "try:\n",
    "    df2 = df2.drop([\"Unnamed: 0\"],axis=1)\n",
    "except:\n",
    "    next\n",
    "try:\n",
    "    df2 = df2.drop([\"Unnamed: 0.1\"],axis=1)\n",
    "except:\n",
    "    next"
   ]
  },
  {
   "cell_type": "markdown",
   "metadata": {
    "heading_collapsed": true
   },
   "source": [
    "## Data Cleaning"
   ]
  },
  {
   "cell_type": "code",
   "execution_count": null,
   "metadata": {
    "hidden": true
   },
   "outputs": [],
   "source": [
    "###########################################################\n",
    "###### Don't need to run any cells in Data Cleaning #######\n",
    "###########################################################"
   ]
  },
  {
   "cell_type": "code",
   "execution_count": 813,
   "metadata": {
    "hidden": true
   },
   "outputs": [],
   "source": [
    "df = pd.read_csv(\"projectdata\\Stage2DataFiles\\RegularSeasonDetailedResults.csv\")"
   ]
  },
  {
   "cell_type": "code",
   "execution_count": 816,
   "metadata": {
    "hidden": true
   },
   "outputs": [],
   "source": [
    "df2 = pd.read_csv(\"NCAATourneyResults_Averages_conf_seeds.csv\")"
   ]
  },
  {
   "cell_type": "code",
   "execution_count": 10,
   "metadata": {
    "hidden": true
   },
   "outputs": [],
   "source": [
    "results = pd.read_csv(\"2018RegularSeasonDetailedStats_Cleaned.csv\")"
   ]
  },
  {
   "cell_type": "code",
   "execution_count": 810,
   "metadata": {
    "hidden": true
   },
   "outputs": [],
   "source": [
    "chosen_idx = np.random.choice(87504, replace = False, size = int(87504/2))\n",
    "chosen_idx\n",
    "not_in_indices = [x for x in range(87504) if x not in chosen_idx]"
   ]
  },
  {
   "cell_type": "code",
   "execution_count": 814,
   "metadata": {
    "code_folding": [
     0
    ],
    "hidden": true
   },
   "outputs": [],
   "source": [
    "## set up matchup dataframe\n",
    "df[\"TeamID\"] = 0\n",
    "df[\"OppID\"] = 0\n",
    "df[\"W\"] = 0\n",
    "df[\"TScore\"] = 0\n",
    "df[\"OScore\"] = 0\n",
    "df[\"TFGM\"] = 0\n",
    "df[\"TFGA\"] = 0\n",
    "df[\"TFGM3\"] = 0\n",
    "df[\"TFGA3\"] = 0\n",
    "df[\"TFTM\"] = 0\n",
    "df[\"TFTA\"] = 0\n",
    "df[\"TOR\"] = 0\n",
    "df[\"TDR\"] = 0\n",
    "df[\"TAst\"] = 0\n",
    "df[\"TTO\"] = 0\n",
    "df[\"TStl\"] = 0\n",
    "df[\"TBlk\"] = 0\n",
    "df[\"TPF\"] = 0\n",
    "df[\"OFGM\"] = 0\n",
    "df[\"OFGA\"] = 0\n",
    "df[\"OFGM3\"] = 0\n",
    "df[\"OFGA3\"] = 0\n",
    "df[\"OFTM\"] = 0\n",
    "df[\"OFTA\"] = 0\n",
    "df[\"OOR\"] = 0\n",
    "df[\"ODR\"] = 0\n",
    "df[\"OAst\"] = 0\n",
    "df[\"OTO\"] = 0\n",
    "df[\"OStl\"] = 0\n",
    "df[\"OBlk\"] = 0\n",
    "df[\"OPF\"] = 0\n",
    "\n",
    "df[\"TeamID\"].iloc[chosen_idx] = df.WTeamID\n",
    "df[\"OppID\"].iloc[chosen_idx] = df.LTeamID\n",
    "df[\"TeamID\"].iloc[not_in_indices] = df.LTeamID\n",
    "df[\"OppID\"].iloc[not_in_indices] = df.WTeamID\n",
    "df[\"W\"].iloc[chosen_idx] = 1\n",
    "df[\"W\"].iloc[not_in_indices] = 0\n",
    "\n",
    "df[\"TScore\"].iloc[chosen_idx] = df.WScore\n",
    "df[\"OScore\"].iloc[chosen_idx] = df.LScore\n",
    "df[\"TFGM\"].iloc[chosen_idx] = df.WFGM\n",
    "df[\"TFGA\"].iloc[chosen_idx] = df.WFGA\n",
    "df[\"TFGM3\"].iloc[chosen_idx] = df.WFGM3\n",
    "df[\"TFGA3\"].iloc[chosen_idx] = df.WFGA3\n",
    "df[\"TFTM\"].iloc[chosen_idx] = df.WFTM\n",
    "df[\"TFTA\"].iloc[chosen_idx] = df.WFTA\n",
    "df[\"TOR\"].iloc[chosen_idx] = df.WOR\n",
    "df[\"TDR\"].iloc[chosen_idx] = df.WDR\n",
    "df[\"TAst\"].iloc[chosen_idx] = df.WAst\n",
    "df[\"TTO\"].iloc[chosen_idx] = df.WTO\n",
    "df[\"TStl\"].iloc[chosen_idx] = df.WStl\n",
    "df[\"TBlk\"].iloc[chosen_idx] = df.WBlk\n",
    "df[\"TPF\"].iloc[chosen_idx] = df.WPF\n",
    "df[\"OFGM\"].iloc[chosen_idx] = df.LFGM\n",
    "df[\"OFGA\"].iloc[chosen_idx] = df.LFGA\n",
    "df[\"OFGM3\"].iloc[chosen_idx] = df.LFGM3\n",
    "df[\"OFGA3\"].iloc[chosen_idx] = df.LFGA3\n",
    "df[\"OFTM\"].iloc[chosen_idx] = df.LFTM\n",
    "df[\"OFTA\"].iloc[chosen_idx] = df.LFTA\n",
    "df[\"OOR\"].iloc[chosen_idx] = df.LOR\n",
    "df[\"ODR\"].iloc[chosen_idx] = df.LDR\n",
    "df[\"OAst\"].iloc[chosen_idx] = df.LAst\n",
    "df[\"OTO\"].iloc[chosen_idx] = df.LTO\n",
    "df[\"OStl\"].iloc[chosen_idx] = df.LStl\n",
    "df[\"OBlk\"].iloc[chosen_idx] = df.LBlk\n",
    "df[\"OPF\"].iloc[chosen_idx] = df.LPF\n",
    "df[\"TScore\"].iloc[not_in_indices] = df.LScore\n",
    "df[\"OScore\"].iloc[not_in_indices] = df.WScore\n",
    "df[\"TFGM\"].iloc[not_in_indices] = df.LFGM\n",
    "df[\"TFGA\"].iloc[not_in_indices] = df.LFGA\n",
    "df[\"TFGM3\"].iloc[not_in_indices] = df.LFGM3\n",
    "df[\"TFGA3\"].iloc[not_in_indices] = df.LFGA3\n",
    "df[\"TFTM\"].iloc[not_in_indices] = df.LFTM\n",
    "df[\"TFTA\"].iloc[not_in_indices] = df.LFTA\n",
    "df[\"TOR\"].iloc[not_in_indices] = df.LOR\n",
    "df[\"TDR\"].iloc[not_in_indices] = df.LDR\n",
    "df[\"TAst\"].iloc[not_in_indices] = df.LAst\n",
    "df[\"TTO\"].iloc[not_in_indices] = df.LTO\n",
    "df[\"TStl\"].iloc[not_in_indices] = df.LStl\n",
    "df[\"TBlk\"].iloc[not_in_indices] = df.LBlk\n",
    "df[\"TPF\"].iloc[not_in_indices] = df.LPF\n",
    "df[\"OFGM\"].iloc[not_in_indices] = df.WFGM\n",
    "df[\"OFGA\"].iloc[not_in_indices] = df.WFGA\n",
    "df[\"OFGM3\"].iloc[not_in_indices] = df.WFGM3\n",
    "df[\"OFGA3\"].iloc[not_in_indices] = df.WFGA3\n",
    "df[\"OFTM\"].iloc[not_in_indices] = df.WFTM\n",
    "df[\"OFTA\"].iloc[not_in_indices] = df.WFTA\n",
    "df[\"OOR\"].iloc[not_in_indices] = df.WOR\n",
    "df[\"ODR\"].iloc[not_in_indices] = df.WDR\n",
    "df[\"OAst\"].iloc[not_in_indices] = df.WAst\n",
    "df[\"OTO\"].iloc[not_in_indices] = df.WTO\n",
    "df[\"OStl\"].iloc[not_in_indices] = df.WStl\n",
    "df[\"OBlk\"].iloc[not_in_indices] = df.WBlk\n",
    "df[\"OPF\"].iloc[not_in_indices] = df.WPF"
   ]
  },
  {
   "cell_type": "code",
   "execution_count": 852,
   "metadata": {
    "hidden": true
   },
   "outputs": [
    {
     "data": {
      "text/html": [
       "<div>\n",
       "<style scoped>\n",
       "    .dataframe tbody tr th:only-of-type {\n",
       "        vertical-align: middle;\n",
       "    }\n",
       "\n",
       "    .dataframe tbody tr th {\n",
       "        vertical-align: top;\n",
       "    }\n",
       "\n",
       "    .dataframe thead th {\n",
       "        text-align: right;\n",
       "    }\n",
       "</style>\n",
       "<table border=\"1\" class=\"dataframe\">\n",
       "  <thead>\n",
       "    <tr style=\"text-align: right;\">\n",
       "      <th></th>\n",
       "      <th>Season</th>\n",
       "      <th>TeamID</th>\n",
       "      <th>OppID</th>\n",
       "      <th>W</th>\n",
       "    </tr>\n",
       "  </thead>\n",
       "  <tbody>\n",
       "    <tr>\n",
       "      <td>0</td>\n",
       "      <td>2003</td>\n",
       "      <td>1328</td>\n",
       "      <td>1104</td>\n",
       "      <td>0</td>\n",
       "    </tr>\n",
       "    <tr>\n",
       "      <td>1</td>\n",
       "      <td>2003</td>\n",
       "      <td>1393</td>\n",
       "      <td>1272</td>\n",
       "      <td>0</td>\n",
       "    </tr>\n",
       "    <tr>\n",
       "      <td>2</td>\n",
       "      <td>2003</td>\n",
       "      <td>1266</td>\n",
       "      <td>1437</td>\n",
       "      <td>1</td>\n",
       "    </tr>\n",
       "  </tbody>\n",
       "</table>\n",
       "</div>"
      ],
      "text/plain": [
       "   Season  TeamID  OppID  W\n",
       "0    2003    1328   1104  0\n",
       "1    2003    1393   1272  0\n",
       "2    2003    1266   1437  1"
      ]
     },
     "execution_count": 852,
     "metadata": {},
     "output_type": "execute_result"
    }
   ],
   "source": [
    "dfresults = df[[\"Season\",\"TeamID\",\"OppID\",\"W\"]]\n",
    "dfresults.head(3)"
   ]
  },
  {
   "cell_type": "code",
   "execution_count": 817,
   "metadata": {
    "code_folding": [
     0
    ],
    "collapsed": true,
    "hidden": true
   },
   "outputs": [
    {
     "name": "stdout",
     "output_type": "stream",
     "text": [
      "1047\r"
     ]
    },
    {
     "data": {
      "text/html": [
       "<div>\n",
       "<style scoped>\n",
       "    .dataframe tbody tr th:only-of-type {\n",
       "        vertical-align: middle;\n",
       "    }\n",
       "\n",
       "    .dataframe tbody tr th {\n",
       "        vertical-align: top;\n",
       "    }\n",
       "\n",
       "    .dataframe thead th {\n",
       "        text-align: right;\n",
       "    }\n",
       "</style>\n",
       "<table border=\"1\" class=\"dataframe\">\n",
       "  <thead>\n",
       "    <tr style=\"text-align: right;\">\n",
       "      <th></th>\n",
       "      <th>Unnamed: 0</th>\n",
       "      <th>Season</th>\n",
       "      <th>TeamID</th>\n",
       "      <th>OppID</th>\n",
       "      <th>W</th>\n",
       "      <th>TScore</th>\n",
       "      <th>OScore</th>\n",
       "      <th>TFGM</th>\n",
       "      <th>TFGA</th>\n",
       "      <th>TFGM3</th>\n",
       "      <th>...</th>\n",
       "      <th>OBlk</th>\n",
       "      <th>OPF</th>\n",
       "      <th>Tconf</th>\n",
       "      <th>Oconf</th>\n",
       "      <th>Tseed</th>\n",
       "      <th>Oseed</th>\n",
       "      <th>Tcom</th>\n",
       "      <th>Ocom</th>\n",
       "      <th>TWP</th>\n",
       "      <th>OWP</th>\n",
       "    </tr>\n",
       "  </thead>\n",
       "  <tbody>\n",
       "    <tr>\n",
       "      <td>1</td>\n",
       "      <td>1</td>\n",
       "      <td>2003</td>\n",
       "      <td>1436</td>\n",
       "      <td>1112</td>\n",
       "      <td>0</td>\n",
       "      <td>67.793103</td>\n",
       "      <td>85.214286</td>\n",
       "      <td>24.827586</td>\n",
       "      <td>55.862069</td>\n",
       "      <td>5.275862</td>\n",
       "      <td>...</td>\n",
       "      <td>4.214286</td>\n",
       "      <td>17.750000</td>\n",
       "      <td>32</td>\n",
       "      <td>29</td>\n",
       "      <td>16</td>\n",
       "      <td>1</td>\n",
       "      <td>1.0</td>\n",
       "      <td>1.000000</td>\n",
       "      <td>0.787879</td>\n",
       "      <td>0.794118</td>\n",
       "    </tr>\n",
       "    <tr>\n",
       "      <td>2</td>\n",
       "      <td>2</td>\n",
       "      <td>2003</td>\n",
       "      <td>1113</td>\n",
       "      <td>1272</td>\n",
       "      <td>1</td>\n",
       "      <td>75.965517</td>\n",
       "      <td>74.517241</td>\n",
       "      <td>27.206897</td>\n",
       "      <td>56.896552</td>\n",
       "      <td>4.000000</td>\n",
       "      <td>...</td>\n",
       "      <td>5.068966</td>\n",
       "      <td>18.758621</td>\n",
       "      <td>29</td>\n",
       "      <td>13</td>\n",
       "      <td>10</td>\n",
       "      <td>7</td>\n",
       "      <td>0.0</td>\n",
       "      <td>0.000000</td>\n",
       "      <td>0.645161</td>\n",
       "      <td>0.617647</td>\n",
       "    </tr>\n",
       "    <tr>\n",
       "      <td>3</td>\n",
       "      <td>3</td>\n",
       "      <td>2003</td>\n",
       "      <td>1141</td>\n",
       "      <td>1166</td>\n",
       "      <td>1</td>\n",
       "      <td>79.344828</td>\n",
       "      <td>79.242424</td>\n",
       "      <td>26.620690</td>\n",
       "      <td>52.689655</td>\n",
       "      <td>6.827586</td>\n",
       "      <td>...</td>\n",
       "      <td>4.454545</td>\n",
       "      <td>17.272727</td>\n",
       "      <td>32</td>\n",
       "      <td>2</td>\n",
       "      <td>11</td>\n",
       "      <td>6</td>\n",
       "      <td>1.0</td>\n",
       "      <td>1.000000</td>\n",
       "      <td>0.533333</td>\n",
       "      <td>0.645161</td>\n",
       "    </tr>\n",
       "    <tr>\n",
       "      <td>4</td>\n",
       "      <td>4</td>\n",
       "      <td>2003</td>\n",
       "      <td>1143</td>\n",
       "      <td>1301</td>\n",
       "      <td>1</td>\n",
       "      <td>74.482759</td>\n",
       "      <td>72.400000</td>\n",
       "      <td>27.344828</td>\n",
       "      <td>58.724138</td>\n",
       "      <td>6.413793</td>\n",
       "      <td>...</td>\n",
       "      <td>3.066667</td>\n",
       "      <td>18.666667</td>\n",
       "      <td>32</td>\n",
       "      <td>16</td>\n",
       "      <td>8</td>\n",
       "      <td>9</td>\n",
       "      <td>0.0</td>\n",
       "      <td>0.000000</td>\n",
       "      <td>0.258065</td>\n",
       "      <td>0.656250</td>\n",
       "    </tr>\n",
       "    <tr>\n",
       "      <td>5</td>\n",
       "      <td>5</td>\n",
       "      <td>2003</td>\n",
       "      <td>1163</td>\n",
       "      <td>1140</td>\n",
       "      <td>1</td>\n",
       "      <td>80.033333</td>\n",
       "      <td>72.451613</td>\n",
       "      <td>29.533333</td>\n",
       "      <td>62.200000</td>\n",
       "      <td>6.066667</td>\n",
       "      <td>...</td>\n",
       "      <td>2.516129</td>\n",
       "      <td>21.419355</td>\n",
       "      <td>1</td>\n",
       "      <td>32</td>\n",
       "      <td>5</td>\n",
       "      <td>12</td>\n",
       "      <td>1.0</td>\n",
       "      <td>1.000000</td>\n",
       "      <td>0.437500</td>\n",
       "      <td>0.705882</td>\n",
       "    </tr>\n",
       "    <tr>\n",
       "      <td>6</td>\n",
       "      <td>6</td>\n",
       "      <td>2003</td>\n",
       "      <td>1181</td>\n",
       "      <td>1161</td>\n",
       "      <td>1</td>\n",
       "      <td>81.966667</td>\n",
       "      <td>74.000000</td>\n",
       "      <td>27.366667</td>\n",
       "      <td>60.333333</td>\n",
       "      <td>7.333333</td>\n",
       "      <td>...</td>\n",
       "      <td>4.233333</td>\n",
       "      <td>20.566667</td>\n",
       "      <td>4</td>\n",
       "      <td>1</td>\n",
       "      <td>3</td>\n",
       "      <td>14</td>\n",
       "      <td>0.0</td>\n",
       "      <td>0.000000</td>\n",
       "      <td>0.787879</td>\n",
       "      <td>0.322581</td>\n",
       "    </tr>\n",
       "    <tr>\n",
       "      <td>7</td>\n",
       "      <td>7</td>\n",
       "      <td>2003</td>\n",
       "      <td>1153</td>\n",
       "      <td>1211</td>\n",
       "      <td>0</td>\n",
       "      <td>67.321429</td>\n",
       "      <td>77.064516</td>\n",
       "      <td>22.892857</td>\n",
       "      <td>56.678571</td>\n",
       "      <td>6.678571</td>\n",
       "      <td>...</td>\n",
       "      <td>3.516129</td>\n",
       "      <td>18.645161</td>\n",
       "      <td>0</td>\n",
       "      <td>7</td>\n",
       "      <td>8</td>\n",
       "      <td>9</td>\n",
       "      <td>0.0</td>\n",
       "      <td>0.000000</td>\n",
       "      <td>0.882353</td>\n",
       "      <td>0.882353</td>\n",
       "    </tr>\n",
       "    <tr>\n",
       "      <td>8</td>\n",
       "      <td>8</td>\n",
       "      <td>2003</td>\n",
       "      <td>1443</td>\n",
       "      <td>1228</td>\n",
       "      <td>0</td>\n",
       "      <td>73.096774</td>\n",
       "      <td>75.433333</td>\n",
       "      <td>25.709677</td>\n",
       "      <td>55.903226</td>\n",
       "      <td>7.709677</td>\n",
       "      <td>...</td>\n",
       "      <td>3.100000</td>\n",
       "      <td>19.133333</td>\n",
       "      <td>0</td>\n",
       "      <td>9</td>\n",
       "      <td>13</td>\n",
       "      <td>4</td>\n",
       "      <td>0.0</td>\n",
       "      <td>0.000000</td>\n",
       "      <td>0.696970</td>\n",
       "      <td>0.419355</td>\n",
       "    </tr>\n",
       "    <tr>\n",
       "      <td>9</td>\n",
       "      <td>9</td>\n",
       "      <td>2003</td>\n",
       "      <td>1242</td>\n",
       "      <td>1429</td>\n",
       "      <td>1</td>\n",
       "      <td>81.333333</td>\n",
       "      <td>65.966667</td>\n",
       "      <td>30.233333</td>\n",
       "      <td>62.300000</td>\n",
       "      <td>4.800000</td>\n",
       "      <td>...</td>\n",
       "      <td>2.000000</td>\n",
       "      <td>16.100000</td>\n",
       "      <td>11</td>\n",
       "      <td>31</td>\n",
       "      <td>2</td>\n",
       "      <td>15</td>\n",
       "      <td>0.0</td>\n",
       "      <td>0.000000</td>\n",
       "      <td>0.794118</td>\n",
       "      <td>0.484848</td>\n",
       "    </tr>\n",
       "    <tr>\n",
       "      <td>10</td>\n",
       "      <td>10</td>\n",
       "      <td>2003</td>\n",
       "      <td>1221</td>\n",
       "      <td>1266</td>\n",
       "      <td>0</td>\n",
       "      <td>69.344828</td>\n",
       "      <td>78.392857</td>\n",
       "      <td>24.206897</td>\n",
       "      <td>52.724138</td>\n",
       "      <td>5.310345</td>\n",
       "      <td>...</td>\n",
       "      <td>3.642857</td>\n",
       "      <td>18.642857</td>\n",
       "      <td>8</td>\n",
       "      <td>12</td>\n",
       "      <td>14</td>\n",
       "      <td>3</td>\n",
       "      <td>0.0</td>\n",
       "      <td>0.000000</td>\n",
       "      <td>0.387097</td>\n",
       "      <td>0.593750</td>\n",
       "    </tr>\n",
       "    <tr>\n",
       "      <td>11</td>\n",
       "      <td>11</td>\n",
       "      <td>2003</td>\n",
       "      <td>1356</td>\n",
       "      <td>1281</td>\n",
       "      <td>0</td>\n",
       "      <td>74.533333</td>\n",
       "      <td>71.774194</td>\n",
       "      <td>27.366667</td>\n",
       "      <td>57.866667</td>\n",
       "      <td>6.100000</td>\n",
       "      <td>...</td>\n",
       "      <td>4.322581</td>\n",
       "      <td>16.870968</td>\n",
       "      <td>23</td>\n",
       "      <td>14</td>\n",
       "      <td>11</td>\n",
       "      <td>6</td>\n",
       "      <td>0.0</td>\n",
       "      <td>0.000000</td>\n",
       "      <td>0.593750</td>\n",
       "      <td>0.612903</td>\n",
       "    </tr>\n",
       "    <tr>\n",
       "      <td>12</td>\n",
       "      <td>12</td>\n",
       "      <td>2003</td>\n",
       "      <td>1323</td>\n",
       "      <td>1454</td>\n",
       "      <td>1</td>\n",
       "      <td>80.096774</td>\n",
       "      <td>77.100000</td>\n",
       "      <td>27.225806</td>\n",
       "      <td>60.677419</td>\n",
       "      <td>8.290323</td>\n",
       "      <td>...</td>\n",
       "      <td>3.600000</td>\n",
       "      <td>20.133333</td>\n",
       "      <td>19</td>\n",
       "      <td>1</td>\n",
       "      <td>5</td>\n",
       "      <td>12</td>\n",
       "      <td>1.0</td>\n",
       "      <td>1.000000</td>\n",
       "      <td>0.575758</td>\n",
       "      <td>0.483871</td>\n",
       "    </tr>\n",
       "    <tr>\n",
       "      <td>13</td>\n",
       "      <td>13</td>\n",
       "      <td>2003</td>\n",
       "      <td>1354</td>\n",
       "      <td>1328</td>\n",
       "      <td>0</td>\n",
       "      <td>72.800000</td>\n",
       "      <td>71.166667</td>\n",
       "      <td>24.800000</td>\n",
       "      <td>54.366667</td>\n",
       "      <td>5.166667</td>\n",
       "      <td>...</td>\n",
       "      <td>3.766667</td>\n",
       "      <td>18.600000</td>\n",
       "      <td>23</td>\n",
       "      <td>20</td>\n",
       "      <td>16</td>\n",
       "      <td>1</td>\n",
       "      <td>1.0</td>\n",
       "      <td>1.000000</td>\n",
       "      <td>0.266667</td>\n",
       "      <td>0.580645</td>\n",
       "    </tr>\n",
       "    <tr>\n",
       "      <td>14</td>\n",
       "      <td>14</td>\n",
       "      <td>2003</td>\n",
       "      <td>1390</td>\n",
       "      <td>1360</td>\n",
       "      <td>1</td>\n",
       "      <td>72.258065</td>\n",
       "      <td>74.678571</td>\n",
       "      <td>25.645161</td>\n",
       "      <td>58.032258</td>\n",
       "      <td>6.935484</td>\n",
       "      <td>...</td>\n",
       "      <td>3.428571</td>\n",
       "      <td>20.142857</td>\n",
       "      <td>27</td>\n",
       "      <td>24</td>\n",
       "      <td>4</td>\n",
       "      <td>13</td>\n",
       "      <td>1.0</td>\n",
       "      <td>0.666667</td>\n",
       "      <td>0.545455</td>\n",
       "      <td>0.566667</td>\n",
       "    </tr>\n",
       "    <tr>\n",
       "      <td>15</td>\n",
       "      <td>15</td>\n",
       "      <td>2003</td>\n",
       "      <td>1173</td>\n",
       "      <td>1409</td>\n",
       "      <td>0</td>\n",
       "      <td>72.793103</td>\n",
       "      <td>73.516129</td>\n",
       "      <td>24.482759</td>\n",
       "      <td>54.206897</td>\n",
       "      <td>7.517241</td>\n",
       "      <td>...</td>\n",
       "      <td>5.000000</td>\n",
       "      <td>17.322581</td>\n",
       "      <td>3</td>\n",
       "      <td>29</td>\n",
       "      <td>4</td>\n",
       "      <td>13</td>\n",
       "      <td>0.0</td>\n",
       "      <td>0.000000</td>\n",
       "      <td>0.451613</td>\n",
       "      <td>0.612903</td>\n",
       "    </tr>\n",
       "    <tr>\n",
       "      <td>16</td>\n",
       "      <td>16</td>\n",
       "      <td>2003</td>\n",
       "      <td>1458</td>\n",
       "      <td>1451</td>\n",
       "      <td>1</td>\n",
       "      <td>70.724138</td>\n",
       "      <td>74.206897</td>\n",
       "      <td>25.034483</td>\n",
       "      <td>53.896552</td>\n",
       "      <td>6.241379</td>\n",
       "      <td>...</td>\n",
       "      <td>0.655172</td>\n",
       "      <td>18.862069</td>\n",
       "      <td>2</td>\n",
       "      <td>1</td>\n",
       "      <td>5</td>\n",
       "      <td>12</td>\n",
       "      <td>1.0</td>\n",
       "      <td>1.000000</td>\n",
       "      <td>0.454545</td>\n",
       "      <td>0.607143</td>\n",
       "    </tr>\n",
       "    <tr>\n",
       "      <td>17</td>\n",
       "      <td>17</td>\n",
       "      <td>2003</td>\n",
       "      <td>1386</td>\n",
       "      <td>1120</td>\n",
       "      <td>0</td>\n",
       "      <td>70.620690</td>\n",
       "      <td>70.100000</td>\n",
       "      <td>24.241379</td>\n",
       "      <td>54.413793</td>\n",
       "      <td>8.034483</td>\n",
       "      <td>...</td>\n",
       "      <td>4.966667</td>\n",
       "      <td>16.366667</td>\n",
       "      <td>26</td>\n",
       "      <td>30</td>\n",
       "      <td>7</td>\n",
       "      <td>10</td>\n",
       "      <td>0.0</td>\n",
       "      <td>0.000000</td>\n",
       "      <td>0.500000</td>\n",
       "      <td>0.781250</td>\n",
       "    </tr>\n",
       "    <tr>\n",
       "      <td>18</td>\n",
       "      <td>18</td>\n",
       "      <td>2003</td>\n",
       "      <td>1280</td>\n",
       "      <td>1139</td>\n",
       "      <td>0</td>\n",
       "      <td>70.166667</td>\n",
       "      <td>68.586207</td>\n",
       "      <td>26.333333</td>\n",
       "      <td>55.800000</td>\n",
       "      <td>5.566667</td>\n",
       "      <td>...</td>\n",
       "      <td>1.862069</td>\n",
       "      <td>16.068966</td>\n",
       "      <td>14</td>\n",
       "      <td>32</td>\n",
       "      <td>5</td>\n",
       "      <td>12</td>\n",
       "      <td>0.0</td>\n",
       "      <td>0.000000</td>\n",
       "      <td>0.656250</td>\n",
       "      <td>0.606061</td>\n",
       "    </tr>\n",
       "    <tr>\n",
       "      <td>19</td>\n",
       "      <td>19</td>\n",
       "      <td>2003</td>\n",
       "      <td>1196</td>\n",
       "      <td>1358</td>\n",
       "      <td>1</td>\n",
       "      <td>75.903226</td>\n",
       "      <td>71.777778</td>\n",
       "      <td>26.935484</td>\n",
       "      <td>56.516129</td>\n",
       "      <td>8.677419</td>\n",
       "      <td>...</td>\n",
       "      <td>5.592593</td>\n",
       "      <td>19.592593</td>\n",
       "      <td>6</td>\n",
       "      <td>23</td>\n",
       "      <td>2</td>\n",
       "      <td>15</td>\n",
       "      <td>0.0</td>\n",
       "      <td>0.000000</td>\n",
       "      <td>0.625000</td>\n",
       "      <td>0.517241</td>\n",
       "    </tr>\n",
       "  </tbody>\n",
       "</table>\n",
       "<p>19 rows × 41 columns</p>\n",
       "</div>"
      ],
      "text/plain": [
       "    Unnamed: 0  Season  TeamID  OppID  W     TScore     OScore       TFGM  \\\n",
       "1            1    2003    1436   1112  0  67.793103  85.214286  24.827586   \n",
       "2            2    2003    1113   1272  1  75.965517  74.517241  27.206897   \n",
       "3            3    2003    1141   1166  1  79.344828  79.242424  26.620690   \n",
       "4            4    2003    1143   1301  1  74.482759  72.400000  27.344828   \n",
       "5            5    2003    1163   1140  1  80.033333  72.451613  29.533333   \n",
       "6            6    2003    1181   1161  1  81.966667  74.000000  27.366667   \n",
       "7            7    2003    1153   1211  0  67.321429  77.064516  22.892857   \n",
       "8            8    2003    1443   1228  0  73.096774  75.433333  25.709677   \n",
       "9            9    2003    1242   1429  1  81.333333  65.966667  30.233333   \n",
       "10          10    2003    1221   1266  0  69.344828  78.392857  24.206897   \n",
       "11          11    2003    1356   1281  0  74.533333  71.774194  27.366667   \n",
       "12          12    2003    1323   1454  1  80.096774  77.100000  27.225806   \n",
       "13          13    2003    1354   1328  0  72.800000  71.166667  24.800000   \n",
       "14          14    2003    1390   1360  1  72.258065  74.678571  25.645161   \n",
       "15          15    2003    1173   1409  0  72.793103  73.516129  24.482759   \n",
       "16          16    2003    1458   1451  1  70.724138  74.206897  25.034483   \n",
       "17          17    2003    1386   1120  0  70.620690  70.100000  24.241379   \n",
       "18          18    2003    1280   1139  0  70.166667  68.586207  26.333333   \n",
       "19          19    2003    1196   1358  1  75.903226  71.777778  26.935484   \n",
       "\n",
       "         TFGA     TFGM3  ...      OBlk        OPF  Tconf  Oconf  Tseed  Oseed  \\\n",
       "1   55.862069  5.275862  ...  4.214286  17.750000     32     29     16      1   \n",
       "2   56.896552  4.000000  ...  5.068966  18.758621     29     13     10      7   \n",
       "3   52.689655  6.827586  ...  4.454545  17.272727     32      2     11      6   \n",
       "4   58.724138  6.413793  ...  3.066667  18.666667     32     16      8      9   \n",
       "5   62.200000  6.066667  ...  2.516129  21.419355      1     32      5     12   \n",
       "6   60.333333  7.333333  ...  4.233333  20.566667      4      1      3     14   \n",
       "7   56.678571  6.678571  ...  3.516129  18.645161      0      7      8      9   \n",
       "8   55.903226  7.709677  ...  3.100000  19.133333      0      9     13      4   \n",
       "9   62.300000  4.800000  ...  2.000000  16.100000     11     31      2     15   \n",
       "10  52.724138  5.310345  ...  3.642857  18.642857      8     12     14      3   \n",
       "11  57.866667  6.100000  ...  4.322581  16.870968     23     14     11      6   \n",
       "12  60.677419  8.290323  ...  3.600000  20.133333     19      1      5     12   \n",
       "13  54.366667  5.166667  ...  3.766667  18.600000     23     20     16      1   \n",
       "14  58.032258  6.935484  ...  3.428571  20.142857     27     24      4     13   \n",
       "15  54.206897  7.517241  ...  5.000000  17.322581      3     29      4     13   \n",
       "16  53.896552  6.241379  ...  0.655172  18.862069      2      1      5     12   \n",
       "17  54.413793  8.034483  ...  4.966667  16.366667     26     30      7     10   \n",
       "18  55.800000  5.566667  ...  1.862069  16.068966     14     32      5     12   \n",
       "19  56.516129  8.677419  ...  5.592593  19.592593      6     23      2     15   \n",
       "\n",
       "    Tcom      Ocom       TWP       OWP  \n",
       "1    1.0  1.000000  0.787879  0.794118  \n",
       "2    0.0  0.000000  0.645161  0.617647  \n",
       "3    1.0  1.000000  0.533333  0.645161  \n",
       "4    0.0  0.000000  0.258065  0.656250  \n",
       "5    1.0  1.000000  0.437500  0.705882  \n",
       "6    0.0  0.000000  0.787879  0.322581  \n",
       "7    0.0  0.000000  0.882353  0.882353  \n",
       "8    0.0  0.000000  0.696970  0.419355  \n",
       "9    0.0  0.000000  0.794118  0.484848  \n",
       "10   0.0  0.000000  0.387097  0.593750  \n",
       "11   0.0  0.000000  0.593750  0.612903  \n",
       "12   1.0  1.000000  0.575758  0.483871  \n",
       "13   1.0  1.000000  0.266667  0.580645  \n",
       "14   1.0  0.666667  0.545455  0.566667  \n",
       "15   0.0  0.000000  0.451613  0.612903  \n",
       "16   1.0  1.000000  0.454545  0.607143  \n",
       "17   0.0  0.000000  0.500000  0.781250  \n",
       "18   0.0  0.000000  0.656250  0.606061  \n",
       "19   0.0  0.000000  0.625000  0.517241  \n",
       "\n",
       "[19 rows x 41 columns]"
      ]
     },
     "execution_count": 817,
     "metadata": {},
     "output_type": "execute_result"
    }
   ],
   "source": [
    "# add record against common opponents, win percentage\n",
    "df2[\"Tcom\"] = 0\n",
    "df2[\"Ocom\"] = 0\n",
    "df2[\"TWP\"] = 0\n",
    "df2[\"OWP\"] = 0\n",
    "for row in range(len(df2)):\n",
    "    season = df2.iloc[row].Season\n",
    "    team = df2.iloc[row][\"TeamID\"]\n",
    "    opp = df2.iloc[row][\"OppID\"]\n",
    "    \n",
    "    wins = 0\n",
    "    games = 0\n",
    "    wins += np.sum(dfresults[dfresults.Season==2018][dfresults.TeamID==team][\"W\"])\n",
    "    games += len(dfresults[dfresults.Season==2018][dfresults.TeamID==team][\"W\"])\n",
    "    wins += np.sum(1-dfresults[dfresults.Season==2018][dfresults.OppID==team][\"W\"])\n",
    "    games += len(dfresults[dfresults.Season==2018][dfresults.OppID==team][\"W\"])\n",
    "    wp = wins/games\n",
    "    df2[\"TWP\"].iloc[row] = wp\n",
    "    \n",
    "    wins = 0\n",
    "    games = 0\n",
    "    wins += np.sum(dfresults[dfresults.Season==2018][dfresults.TeamID==opp][\"W\"])\n",
    "    games += len(dfresults[dfresults.Season==2018][dfresults.TeamID==opp][\"W\"])\n",
    "    wins += np.sum(1-dfresults[dfresults.Season==2018][dfresults.OppID==opp][\"W\"])\n",
    "    games += len(dfresults[dfresults.Season==2018][dfresults.OppID==opp][\"W\"])\n",
    "    wp = wins/games\n",
    "    df2[\"OWP\"].iloc[row] = wp\n",
    "    \n",
    "    a = dfresults[dfresults.TeamID==team][dfresults.Season==season][\"OppID\"].values\n",
    "    b = dfresults[dfresults.TeamID==opp][dfresults.Season==season][\"OppID\"].values\n",
    "    com = np.intersect1d(a, b)\n",
    "    t = 0\n",
    "    o = 0\n",
    "    tgames = 0\n",
    "    ogames = 0\n",
    "    if len(com)>0:\n",
    "        \n",
    "        for i in com:\n",
    "            t+=np.sum(dfresults.loc[dfresults.Season==season][dfresults.TeamID==team][dfresults.OppID==i][\"W\"].values)\n",
    "            o+=np.sum(dfresults.loc[dfresults.Season==season][dfresults.TeamID==opp][dfresults.OppID==i][\"W\"].values)\n",
    "            tgames += len(dfresults.loc[dfresults.Season==season][dfresults.TeamID==team][dfresults.OppID==i][\"W\"].values)\n",
    "            ogames += len(dfresults.loc[dfresults.Season==season][dfresults.TeamID==opp][dfresults.OppID==i][\"W\"].values)\n",
    "            tncom += tgames\n",
    "            oncom += ogames\n",
    "    a = dfresults[dfresults.Season==season][dfresults.OppID==team][\"TeamID\"].values\n",
    "    b = dfresults[dfresults.Season==season][dfresults.OppID==opp][\"TeamID\"].values\n",
    "    com = np.intersect1d(a, b)\n",
    "    if len(com)>0:\n",
    "        ncom += len(com)\n",
    "        for i in com:\n",
    "            t+=np.sum(1-dfresults.loc[dfresults.Season==season][dfresults.OppID==team][dfresults.TeamID==i][\"W\"].values)\n",
    "            o+=np.sum(1-dfresults.loc[dfresults.Season==season][dfresults.OppID==opp][dfresults.TeamID==i][\"W\"].values)\n",
    "            tgames += len(dfresults.loc[dfresults.Season==season][dfresults.OppID==team][dfresults.TeamID==i][\"W\"].values)\n",
    "            ogames += len(dfresults.loc[dfresults.Season==season][dfresults.OppID==opp][dfresults.TeamID==i][\"W\"].values)\n",
    "    try:\n",
    "        t = float(t / tgames)\n",
    "        o = float(o / ogames)\n",
    "        df2[\"Tcom\"].iloc[row] = t\n",
    "        df2[\"Ocom\"].iloc[row] = o\n",
    "    except:\n",
    "        next\n",
    "    print(row,end=\"\\r\")\n",
    "df2[1:20]"
   ]
  },
  {
   "cell_type": "code",
   "execution_count": 820,
   "metadata": {
    "hidden": true
   },
   "outputs": [],
   "source": [
    "df2[\"seed_diff\"] = df2.Tseed - df2.Oseed\n",
    "df2[\"WP_diff\"] = df2.TWP - df2.OWP\n",
    "df2[\"com_diff\"] = df2.Tcom - df2.Ocom\n",
    "df2[\"score_diff\"] = df2.TScore - df2.OScore"
   ]
  },
  {
   "cell_type": "code",
   "execution_count": 853,
   "metadata": {
    "hidden": true
   },
   "outputs": [],
   "source": [
    "df2.to_csv(\"data_cleaned.csv\")"
   ]
  },
  {
   "cell_type": "markdown",
   "metadata": {},
   "source": [
    "## Preprocessing"
   ]
  },
  {
   "cell_type": "code",
   "execution_count": 881,
   "metadata": {},
   "outputs": [
    {
     "data": {
      "text/html": [
       "<div>\n",
       "<style scoped>\n",
       "    .dataframe tbody tr th:only-of-type {\n",
       "        vertical-align: middle;\n",
       "    }\n",
       "\n",
       "    .dataframe tbody tr th {\n",
       "        vertical-align: top;\n",
       "    }\n",
       "\n",
       "    .dataframe thead th {\n",
       "        text-align: right;\n",
       "    }\n",
       "</style>\n",
       "<table border=\"1\" class=\"dataframe\">\n",
       "  <thead>\n",
       "    <tr style=\"text-align: right;\">\n",
       "      <th></th>\n",
       "      <th>TScore</th>\n",
       "      <th>TFGM</th>\n",
       "      <th>TAst</th>\n",
       "      <th>OFGM</th>\n",
       "      <th>Tseed</th>\n",
       "      <th>Oseed</th>\n",
       "      <th>seed_diff</th>\n",
       "      <th>WP_diff</th>\n",
       "      <th>com_diff</th>\n",
       "      <th>score_diff</th>\n",
       "    </tr>\n",
       "  </thead>\n",
       "  <tbody>\n",
       "    <tr>\n",
       "      <td>0</td>\n",
       "      <td>71.206897</td>\n",
       "      <td>24.379310</td>\n",
       "      <td>13.034483</td>\n",
       "      <td>24.733333</td>\n",
       "      <td>16</td>\n",
       "      <td>16</td>\n",
       "      <td>0</td>\n",
       "      <td>0.171727</td>\n",
       "      <td>0.0</td>\n",
       "      <td>-1.593103</td>\n",
       "    </tr>\n",
       "    <tr>\n",
       "      <td>1</td>\n",
       "      <td>67.793103</td>\n",
       "      <td>24.827586</td>\n",
       "      <td>14.206897</td>\n",
       "      <td>30.321429</td>\n",
       "      <td>16</td>\n",
       "      <td>1</td>\n",
       "      <td>15</td>\n",
       "      <td>-0.006239</td>\n",
       "      <td>0.0</td>\n",
       "      <td>-17.421182</td>\n",
       "    </tr>\n",
       "    <tr>\n",
       "      <td>2</td>\n",
       "      <td>75.965517</td>\n",
       "      <td>27.206897</td>\n",
       "      <td>15.551724</td>\n",
       "      <td>26.275862</td>\n",
       "      <td>10</td>\n",
       "      <td>7</td>\n",
       "      <td>3</td>\n",
       "      <td>0.027514</td>\n",
       "      <td>0.0</td>\n",
       "      <td>1.448276</td>\n",
       "    </tr>\n",
       "    <tr>\n",
       "      <td>3</td>\n",
       "      <td>79.344828</td>\n",
       "      <td>26.620690</td>\n",
       "      <td>15.620690</td>\n",
       "      <td>28.696970</td>\n",
       "      <td>11</td>\n",
       "      <td>6</td>\n",
       "      <td>5</td>\n",
       "      <td>-0.111828</td>\n",
       "      <td>0.0</td>\n",
       "      <td>0.102403</td>\n",
       "    </tr>\n",
       "    <tr>\n",
       "      <td>4</td>\n",
       "      <td>74.482759</td>\n",
       "      <td>27.344828</td>\n",
       "      <td>16.000000</td>\n",
       "      <td>24.333333</td>\n",
       "      <td>8</td>\n",
       "      <td>9</td>\n",
       "      <td>-1</td>\n",
       "      <td>-0.398185</td>\n",
       "      <td>0.0</td>\n",
       "      <td>2.082759</td>\n",
       "    </tr>\n",
       "  </tbody>\n",
       "</table>\n",
       "</div>"
      ],
      "text/plain": [
       "      TScore       TFGM       TAst       OFGM  Tseed  Oseed  seed_diff  \\\n",
       "0  71.206897  24.379310  13.034483  24.733333     16     16          0   \n",
       "1  67.793103  24.827586  14.206897  30.321429     16      1         15   \n",
       "2  75.965517  27.206897  15.551724  26.275862     10      7          3   \n",
       "3  79.344828  26.620690  15.620690  28.696970     11      6          5   \n",
       "4  74.482759  27.344828  16.000000  24.333333      8      9         -1   \n",
       "\n",
       "    WP_diff  com_diff  score_diff  \n",
       "0  0.171727       0.0   -1.593103  \n",
       "1 -0.006239       0.0  -17.421182  \n",
       "2  0.027514       0.0    1.448276  \n",
       "3 -0.111828       0.0    0.102403  \n",
       "4 -0.398185       0.0    2.082759  "
      ]
     },
     "execution_count": 881,
     "metadata": {},
     "output_type": "execute_result"
    }
   ],
   "source": [
    "X = df2.iloc[:,4:]\n",
    "y = df2[\"W\"]\n",
    "selector = SelectKBest(f_classif, k=10)\n",
    "selector.fit(X, y)\n",
    "cols = selector.get_support(indices=True)\n",
    "features_df_new = X.iloc[:,cols]\n",
    "features_df_new.head()"
   ]
  },
  {
   "cell_type": "code",
   "execution_count": 882,
   "metadata": {},
   "outputs": [],
   "source": [
    "X = df2.iloc[:,4+cols]\n",
    "y = df2[\"W\"]\n",
    "X_train, X_test, y_train, y_test = train_test_split(X, y, test_size=0.15, \n",
    "                                                    shuffle=True, stratify=y)"
   ]
  },
  {
   "cell_type": "markdown",
   "metadata": {},
   "source": [
    "## KNN"
   ]
  },
  {
   "cell_type": "code",
   "execution_count": 883,
   "metadata": {},
   "outputs": [
    {
     "name": "stdout",
     "output_type": "stream",
     "text": [
      "Fold:  1, Class dist.: [422 378], Acc: 0.700, 0.519\n",
      "Fold:  2, Class dist.: [422 379], Acc: 0.719, 0.540\n",
      "Fold:  3, Class dist.: [422 379], Acc: 0.663, 0.608\n",
      "Fold:  4, Class dist.: [422 379], Acc: 0.708, 0.557\n",
      "Fold:  5, Class dist.: [422 379], Acc: 0.640, 0.603\n",
      "Fold:  6, Class dist.: [422 379], Acc: 0.708, 0.570\n",
      "Fold:  7, Class dist.: [422 379], Acc: 0.719, 0.598\n",
      "Fold:  8, Class dist.: [422 379], Acc: 0.719, 0.519\n",
      "Fold:  9, Class dist.: [422 379], Acc: 0.652, 0.650\n",
      "Fold: 10, Class dist.: [423 379], Acc: 0.636, 1.045\n",
      "\n",
      "CV accuracy: 0.686 +/- 0.033\n",
      "CV Log Loss: 0.621 +/- 0.147\n"
     ]
    }
   ],
   "source": [
    "pipe_knn = make_pipeline(StandardScaler(),\n",
    "                        KNeighborsClassifier(n_neighbors=20))\n",
    "\n",
    "kfold = StratifiedKFold(n_splits=10,\n",
    "                        random_state=123).split(X_train, y_train)\n",
    "\n",
    "scores = []\n",
    "losses = []\n",
    "for k, (train, test) in enumerate(kfold):\n",
    "    pipe_knn.fit(X_train.iloc[train], y_train.iloc[train])\n",
    "    score = pipe_knn.score(X_train.iloc[test], y_train.iloc[test])\n",
    "    scores.append(score)\n",
    "    y_pred = pipe_knn.predict_proba(X_train.iloc[test])\n",
    "    loss = log_loss(y_train.iloc[test],y_pred)\n",
    "    losses.append(loss)\n",
    "    print('Fold: %2d, Class dist.: %s, Acc: %.3f, %.3f' % (k+1,\n",
    "          np.bincount(y_train.iloc[train]), score, loss))\n",
    "    \n",
    "print('\\nCV accuracy: %.3f +/- %.3f' % (np.mean(scores), np.std(scores)))\n",
    "print('CV Log Loss: %.3f +/- %.3f' % (np.mean(losses), np.std(losses)))"
   ]
  },
  {
   "cell_type": "code",
   "execution_count": 854,
   "metadata": {
    "code_folding": [
     0
    ]
   },
   "outputs": [
    {
     "data": {
      "image/png": "[encoded data removed]",
      "text/plain": [
       "<Figure size 432x288 with 1 Axes>"
      ]
     },
     "metadata": {
      "needs_background": "light"
     },
     "output_type": "display_data"
    }
   ],
   "source": [
    "# number of training examples\n",
    "train_sizes, train_scores, test_scores =\\\n",
    "                learning_curve(estimator=pipe_knn,\n",
    "                               X=X_train.values,\n",
    "                               y=y_train.values,\n",
    "                               train_sizes=np.linspace(0.1, 1.0, 10),\n",
    "                               cv=10,\n",
    "                               n_jobs=1)\n",
    "\n",
    "train_mean = np.mean(train_scores, axis=1)\n",
    "train_std = np.std(train_scores, axis=1)\n",
    "test_mean = np.mean(test_scores, axis=1)\n",
    "test_std = np.std(test_scores, axis=1)\n",
    "\n",
    "plt.plot(train_sizes, train_mean,\n",
    "         color='blue', marker='o',\n",
    "         markersize=5, label='Training accuracy')\n",
    "\n",
    "plt.fill_between(train_sizes,\n",
    "                 train_mean + train_std,\n",
    "                 train_mean - train_std,\n",
    "                 alpha=0.15, color='blue')\n",
    "\n",
    "plt.plot(train_sizes, test_mean,\n",
    "         color='green', linestyle='--',\n",
    "         marker='s', markersize=5,\n",
    "         label='Validation accuracy')\n",
    "\n",
    "plt.fill_between(train_sizes,\n",
    "                 test_mean + test_std,\n",
    "                 test_mean - test_std,\n",
    "                 alpha=0.15, color='green')\n",
    "\n",
    "plt.grid()\n",
    "plt.xlabel('Number of training examples')\n",
    "plt.ylabel('Accuracy')\n",
    "plt.legend(loc='lower right')\n",
    "plt.ylim([0.3, 1.03])\n",
    "plt.tight_layout()\n",
    "plt.savefig('06_05.png', dpi=300)\n",
    "plt.show()"
   ]
  },
  {
   "cell_type": "code",
   "execution_count": 855,
   "metadata": {
    "code_folding": [
     0
    ]
   },
   "outputs": [
    {
     "data": {
      "image/png": "[encoded data removed]",
      "text/plain": [
       "<Figure size 432x288 with 1 Axes>"
      ]
     },
     "metadata": {
      "needs_background": "light"
     },
     "output_type": "display_data"
    }
   ],
   "source": [
    "# n neighbors\n",
    "param_range = [3, 5, 7, 9, 15, 21, 31]\n",
    "train_scores, test_scores = validation_curve(\n",
    "                estimator=pipe_knn, \n",
    "                X=X_train, \n",
    "                y=y_train, \n",
    "                param_name='kneighborsclassifier__n_neighbors', \n",
    "                param_range=param_range,\n",
    "                cv=5)\n",
    "\n",
    "train_mean = np.mean(train_scores, axis=1)\n",
    "train_std = np.std(train_scores, axis=1)\n",
    "test_mean = np.mean(test_scores, axis=1)\n",
    "test_std = np.std(test_scores, axis=1)\n",
    "\n",
    "plt.plot(param_range, train_mean, \n",
    "         color='blue', marker='o', \n",
    "         markersize=5, label='Training accuracy')\n",
    "\n",
    "plt.fill_between(param_range, train_mean + train_std,\n",
    "                 train_mean - train_std, alpha=0.15,\n",
    "                 color='blue')\n",
    "\n",
    "plt.plot(param_range, test_mean, \n",
    "         color='green', linestyle='--', \n",
    "         marker='s', markersize=5, \n",
    "         label='Validation accuracy')\n",
    "\n",
    "plt.fill_between(param_range, \n",
    "                 test_mean + test_std,\n",
    "                 test_mean - test_std, \n",
    "                 alpha=0.15, color='green')\n",
    "\n",
    "plt.grid()\n",
    "plt.legend(loc='lower right')\n",
    "plt.xlabel('Parameter k')\n",
    "plt.ylabel('Accuracy')\n",
    "plt.ylim([0.3, 1.0])\n",
    "plt.tight_layout()\n",
    "# plt.savefig('images/06_06.png', dpi=300)\n",
    "plt.show()"
   ]
  },
  {
   "cell_type": "code",
   "execution_count": 856,
   "metadata": {
    "code_folding": [
     0
    ]
   },
   "outputs": [
    {
     "data": {
      "image/png": "[encoded data removed]",
      "text/plain": [
       "<Figure size 180x180 with 1 Axes>"
      ]
     },
     "metadata": {
      "needs_background": "light"
     },
     "output_type": "display_data"
    },
    {
     "name": "stdout",
     "output_type": "stream",
     "text": [
      "Test accuracy: 0.684\n",
      "Test Log Loss: 0.553\n"
     ]
    }
   ],
   "source": [
    "# confusion matrix and test results\n",
    "from sklearn.metrics import confusion_matrix\n",
    "\n",
    "pipe_knn.fit(X_train, y_train)\n",
    "\n",
    "y_pred = pipe_knn.predict(X_test)\n",
    "confmat = confusion_matrix(y_true=y_test, y_pred=y_pred)\n",
    "\n",
    "\n",
    "fig, ax = plt.subplots(figsize=(2.5, 2.5))\n",
    "ax.matshow(confmat, cmap=plt.cm.Blues, alpha=0.3)\n",
    "for i in range(confmat.shape[0]):\n",
    "    for j in range(confmat.shape[1]):\n",
    "        ax.text(x=j, y=i, s=confmat[i, j], va='center', ha='center')\n",
    "\n",
    "plt.xlabel('Predicted label')\n",
    "plt.ylabel('True label')\n",
    "\n",
    "plt.tight_layout()\n",
    "#plt.savefig('images/06_09.png', dpi=300)\n",
    "plt.show()\n",
    "\n",
    "score = pipe_knn.score(X_test, y_test)\n",
    "y_probs = pipe_knn.predict_proba(X_test)[:,1]\n",
    "loss = sklearn.metrics.log_loss(y_test,y_probs)\n",
    "print('Test accuracy: %0.3f' % (score))\n",
    "print('Test Log Loss: %0.3f' % (loss))"
   ]
  },
  {
   "cell_type": "markdown",
   "metadata": {},
   "source": [
    "## Random Forest"
   ]
  },
  {
   "cell_type": "code",
   "execution_count": 857,
   "metadata": {},
   "outputs": [
    {
     "name": "stdout",
     "output_type": "stream",
     "text": [
      "Fold:  1, Class dist.: [422 378], Acc: 0.667, 0.578\n",
      "Fold:  2, Class dist.: [422 379], Acc: 0.607, 0.669\n",
      "Fold:  3, Class dist.: [422 379], Acc: 0.562, 0.720\n",
      "Fold:  4, Class dist.: [422 379], Acc: 0.753, 0.470\n",
      "Fold:  5, Class dist.: [422 379], Acc: 0.730, 0.500\n",
      "Fold:  6, Class dist.: [422 379], Acc: 0.663, 0.608\n",
      "Fold:  7, Class dist.: [422 379], Acc: 0.663, 0.575\n",
      "Fold:  8, Class dist.: [422 379], Acc: 0.764, 0.561\n",
      "Fold:  9, Class dist.: [422 379], Acc: 0.663, 0.662\n",
      "Fold: 10, Class dist.: [423 379], Acc: 0.727, 0.562\n",
      "\n",
      "CV accuracy: 0.680 +/- 0.061\n",
      "nCV Log Loss: 0.590 +/- 0.073\n"
     ]
    }
   ],
   "source": [
    "kfold = StratifiedKFold(n_splits=10,\n",
    "                        random_state=123).split(X_train, y_train)\n",
    "\n",
    "pipe_lr = make_pipeline(RandomForestClassifier(n_estimators=100))\n",
    "\n",
    "scores = []\n",
    "losses = []\n",
    "for k, (train, test) in enumerate(kfold):\n",
    "    pipe_lr.fit(X_train.iloc[train], y_train.iloc[train])\n",
    "    score = pipe_lr.score(X_train.iloc[test], y_train.iloc[test])\n",
    "    scores.append(score)\n",
    "    y_pred = pipe_lr.predict_proba(X_train.iloc[test])\n",
    "    loss = log_loss(y_train.iloc[test],y_pred)\n",
    "    losses.append(loss)\n",
    "    print('Fold: %2d, Class dist.: %s, Acc: %.3f, %.3f' % (k+1,\n",
    "          np.bincount(y_train.iloc[train]), score, loss))\n",
    "    \n",
    "print('\\nCV accuracy: %.3f +/- %.3f' % (np.mean(scores), np.std(scores)))\n",
    "print('CV Log Loss: %.3f +/- %.3f' % (np.mean(losses), np.std(losses)))"
   ]
  },
  {
   "cell_type": "code",
   "execution_count": 858,
   "metadata": {
    "code_folding": [
     0
    ]
   },
   "outputs": [
    {
     "data": {
      "image/png": "[encoded data removed]",
      "text/plain": [
       "<Figure size 180x180 with 1 Axes>"
      ]
     },
     "metadata": {
      "needs_background": "light"
     },
     "output_type": "display_data"
    },
    {
     "name": "stdout",
     "output_type": "stream",
     "text": [
      "Test accuracy: 0.652\n",
      "Test Log Loss: 0.581\n"
     ]
    }
   ],
   "source": [
    "#confusion matrix and test results\n",
    "y_pred = pipe_lr.predict(X_test)\n",
    "\n",
    "confmat = confusion_matrix(y_true=y_test, y_pred=y_pred)\n",
    "\n",
    "fig, ax = plt.subplots(figsize=(2.5, 2.5))\n",
    "ax.matshow(confmat, cmap=plt.cm.Blues, alpha=0.3)\n",
    "for i in range(confmat.shape[0]):\n",
    "    for j in range(confmat.shape[1]):\n",
    "        ax.text(x=j, y=i, s=confmat[i, j], va='center', ha='center')\n",
    "\n",
    "plt.xlabel('Predicted label')\n",
    "plt.ylabel('True label')\n",
    "\n",
    "plt.tight_layout()\n",
    "#plt.savefig('images/06_09.png', dpi=300)\n",
    "plt.show()\n",
    "\n",
    "\n",
    "score = pipe_lr.score(X_test, y_test)\n",
    "y_probs = pipe_lr.predict_proba(X_test)[:,1]\n",
    "loss = sklearn.metrics.log_loss(y_test,y_probs)\n",
    "print('Test accuracy: %0.3f' % (score))\n",
    "print('Test Log Loss: %0.3f' % (loss))"
   ]
  },
  {
   "cell_type": "markdown",
   "metadata": {},
   "source": [
    "## Ensemble"
   ]
  },
  {
   "cell_type": "markdown",
   "metadata": {},
   "source": [
    "### Bagging"
   ]
  },
  {
   "cell_type": "code",
   "execution_count": 859,
   "metadata": {},
   "outputs": [
    {
     "name": "stdout",
     "output_type": "stream",
     "text": [
      "Fold:  1, Class dist.: [422 378], Acc: 0.711, 0.595\n",
      "Fold:  2, Class dist.: [422 379], Acc: 0.685, 0.614\n",
      "Fold:  3, Class dist.: [422 379], Acc: 0.674, 0.628\n",
      "Fold:  4, Class dist.: [422 379], Acc: 0.753, 0.518\n",
      "Fold:  5, Class dist.: [422 379], Acc: 0.742, 0.530\n",
      "Fold:  6, Class dist.: [422 379], Acc: 0.719, 0.572\n",
      "Fold:  7, Class dist.: [422 379], Acc: 0.685, 0.571\n",
      "Fold:  8, Class dist.: [422 379], Acc: 0.708, 0.589\n",
      "Fold:  9, Class dist.: [422 379], Acc: 0.674, 0.620\n",
      "Fold: 10, Class dist.: [423 379], Acc: 0.750, 0.559\n",
      "\n",
      "CV accuracy: 0.710 +/- 0.029\n",
      "CV Log Loss: 0.579 +/- 0.035\n"
     ]
    }
   ],
   "source": [
    "bag = BaggingClassifier(base_estimator = pipe_knn,n_estimators=20,max_samples=.75)\n",
    "\n",
    "kfold = StratifiedKFold(n_splits=10,\n",
    "                        random_state=123).split(X_train, y_train)\n",
    "\n",
    "scores = []\n",
    "losses = []\n",
    "for k, (train, test) in enumerate(kfold):\n",
    "    bag.fit(X_train.iloc[train], y_train.iloc[train])\n",
    "    score = bag.score(X_train.iloc[test], y_train.iloc[test])\n",
    "    scores.append(score)\n",
    "    y_pred = bag.predict_proba(X_train.iloc[test])\n",
    "    loss = log_loss(y_train.iloc[test],y_pred)\n",
    "    losses.append(loss)\n",
    "    print('Fold: %2d, Class dist.: %s, Acc: %.3f, %.3f' % (k+1,\n",
    "          np.bincount(y_train.iloc[train]), score, loss))\n",
    "    \n",
    "print('\\nCV accuracy: %.3f +/- %.3f' % (np.mean(scores), np.std(scores)))\n",
    "print('CV Log Loss: %.3f +/- %.3f' % (np.mean(losses), np.std(losses)))"
   ]
  },
  {
   "cell_type": "code",
   "execution_count": 860,
   "metadata": {
    "code_folding": [
     0
    ]
   },
   "outputs": [
    {
     "data": {
      "image/png": "[encoded data removed]",
      "text/plain": [
       "<Figure size 432x288 with 1 Axes>"
      ]
     },
     "metadata": {
      "needs_background": "light"
     },
     "output_type": "display_data"
    }
   ],
   "source": [
    "#bagging sample size\n",
    "param_range = [.1, .2, .3, .5, .75,.99]\n",
    "train_scores, test_scores = validation_curve(\n",
    "                estimator=bag, \n",
    "                X=X_train, \n",
    "                y=y_train, \n",
    "                param_name='max_samples', \n",
    "                param_range=param_range,\n",
    "                cv=5)\n",
    "\n",
    "train_mean = np.mean(train_scores, axis=1)\n",
    "train_std = np.std(train_scores, axis=1)\n",
    "test_mean = np.mean(test_scores, axis=1)\n",
    "test_std = np.std(test_scores, axis=1)\n",
    "\n",
    "plt.plot(param_range, train_mean, \n",
    "         color='blue', marker='o', \n",
    "         markersize=5, label='Training accuracy')\n",
    "\n",
    "plt.fill_between(param_range, train_mean + train_std,\n",
    "                 train_mean - train_std, alpha=0.15,\n",
    "                 color='blue')\n",
    "\n",
    "plt.plot(param_range, test_mean, \n",
    "         color='green', linestyle='--', \n",
    "         marker='s', markersize=5, \n",
    "         label='Validation accuracy')\n",
    "\n",
    "plt.fill_between(param_range, \n",
    "                 test_mean + test_std,\n",
    "                 test_mean - test_std, \n",
    "                 alpha=0.15, color='green')\n",
    "\n",
    "plt.grid()\n",
    "plt.legend(loc='lower right')\n",
    "plt.xlabel('Parameter n')\n",
    "plt.ylabel('Accuracy')\n",
    "plt.ylim([0.3, 1.0])\n",
    "plt.tight_layout()\n",
    "# plt.savefig('images/06_06.png', dpi=300)\n",
    "plt.show()"
   ]
  },
  {
   "cell_type": "code",
   "execution_count": 861,
   "metadata": {
    "code_folding": [
     0
    ]
   },
   "outputs": [
    {
     "data": {
      "image/png": "[encoded data removed]",
      "text/plain": [
       "<Figure size 180x180 with 1 Axes>"
      ]
     },
     "metadata": {
      "needs_background": "light"
     },
     "output_type": "display_data"
    },
    {
     "name": "stdout",
     "output_type": "stream",
     "text": [
      "Test accuracy: 0.703\n",
      "Test Log Loss: 0.546\n"
     ]
    }
   ],
   "source": [
    "#confusion matrix and test results\n",
    "y_pred = bag.predict(X_test)\n",
    "confmat = confusion_matrix(y_true=y_test, y_pred=y_pred)\n",
    "\n",
    "\n",
    "fig, ax = plt.subplots(figsize=(2.5, 2.5))\n",
    "ax.matshow(confmat, cmap=plt.cm.Blues, alpha=0.3)\n",
    "for i in range(confmat.shape[0]):\n",
    "    for j in range(confmat.shape[1]):\n",
    "        ax.text(x=j, y=i, s=confmat[i, j], va='center', ha='center')\n",
    "\n",
    "plt.xlabel('Predicted label')\n",
    "plt.ylabel('True label')\n",
    "\n",
    "plt.tight_layout()\n",
    "#plt.savefig('images/06_09.png', dpi=300)\n",
    "plt.show()\n",
    "\n",
    "score = bag.score(X_test, y_test)\n",
    "y_probs = bag.predict_proba(X_test)[:,1]\n",
    "loss = sklearn.metrics.log_loss(y_test,y_probs)\n",
    "print('Test accuracy: %0.3f' % (score))\n",
    "print('Test Log Loss: %0.3f' % (loss))"
   ]
  },
  {
   "cell_type": "markdown",
   "metadata": {},
   "source": [
    "### AdaBoost"
   ]
  },
  {
   "cell_type": "code",
   "execution_count": 862,
   "metadata": {},
   "outputs": [
    {
     "name": "stdout",
     "output_type": "stream",
     "text": [
      "Fold:  1, Class dist.: [422 378], Acc: 0.678, 0.625\n",
      "Fold:  2, Class dist.: [422 379], Acc: 0.629, 0.634\n",
      "Fold:  3, Class dist.: [422 379], Acc: 0.573, 0.660\n",
      "Fold:  4, Class dist.: [422 379], Acc: 0.764, 0.599\n",
      "Fold:  5, Class dist.: [422 379], Acc: 0.730, 0.614\n",
      "Fold:  6, Class dist.: [422 379], Acc: 0.652, 0.628\n",
      "Fold:  7, Class dist.: [422 379], Acc: 0.685, 0.638\n",
      "Fold:  8, Class dist.: [422 379], Acc: 0.697, 0.628\n",
      "Fold:  9, Class dist.: [422 379], Acc: 0.674, 0.654\n",
      "Fold: 10, Class dist.: [423 379], Acc: 0.750, 0.637\n",
      "\n",
      "CV accuracy: 0.683 +/- 0.054\n",
      "CV Log Loss: 0.631 +/- 0.017\n"
     ]
    }
   ],
   "source": [
    "boostada = AdaBoostClassifier(learning_rate=.1,n_estimators=50)\n",
    "\n",
    "kfold = StratifiedKFold(n_splits=10,\n",
    "                        random_state=123).split(X_train, y_train)\n",
    "\n",
    "scores = []\n",
    "losses = []\n",
    "for k, (train, test) in enumerate(kfold):\n",
    "    boostada.fit(X_train.iloc[train], y_train.iloc[train])\n",
    "    score = boostada.score(X_train.iloc[test], y_train.iloc[test])\n",
    "    scores.append(score)\n",
    "    y_pred = boostada.predict_proba(X_train.iloc[test])\n",
    "    loss = log_loss(y_train.iloc[test],y_pred)\n",
    "    losses.append(loss)\n",
    "    print('Fold: %2d, Class dist.: %s, Acc: %.3f, %.3f' % (k+1,\n",
    "          np.bincount(y_train.iloc[train]), score, loss))\n",
    "    \n",
    "print('\\nCV accuracy: %.3f +/- %.3f' % (np.mean(scores), np.std(scores)))\n",
    "print('CV Log Loss: %.3f +/- %.3f' % (np.mean(losses), np.std(losses)))"
   ]
  },
  {
   "cell_type": "code",
   "execution_count": 863,
   "metadata": {
    "code_folding": [
     0
    ]
   },
   "outputs": [
    {
     "data": {
      "image/png": "[encoded data removed]",
      "text/plain": [
       "<Figure size 432x288 with 1 Axes>"
      ]
     },
     "metadata": {
      "needs_background": "light"
     },
     "output_type": "display_data"
    }
   ],
   "source": [
    "## n estimators\n",
    "param_range = [10,25,50,75,100,200,300]\n",
    "train_scores, test_scores = validation_curve(\n",
    "                estimator=boostada, \n",
    "                X=X_train, \n",
    "                y=y_train, \n",
    "                param_name='n_estimators', \n",
    "                param_range=param_range,\n",
    "                cv=5)\n",
    "\n",
    "train_mean = np.mean(train_scores, axis=1)\n",
    "train_std = np.std(train_scores, axis=1)\n",
    "test_mean = np.mean(test_scores, axis=1)\n",
    "test_std = np.std(test_scores, axis=1)\n",
    "\n",
    "plt.plot(param_range, train_mean, \n",
    "         color='blue', marker='o', \n",
    "         markersize=5, label='Training accuracy')\n",
    "\n",
    "plt.fill_between(param_range, train_mean + train_std,\n",
    "                 train_mean - train_std, alpha=0.15,\n",
    "                 color='blue')\n",
    "\n",
    "plt.plot(param_range, test_mean, \n",
    "         color='green', linestyle='--', \n",
    "         marker='s', markersize=5, \n",
    "         label='Validation accuracy')\n",
    "\n",
    "plt.fill_between(param_range, \n",
    "                 test_mean + test_std,\n",
    "                 test_mean - test_std, \n",
    "                 alpha=0.15, color='green')\n",
    "\n",
    "plt.grid()\n",
    "plt.legend(loc='lower right')\n",
    "plt.xlabel('Parameter n')\n",
    "plt.ylabel('Accuracy')\n",
    "plt.ylim([0.3, 1.0])\n",
    "plt.tight_layout()\n",
    "# plt.savefig('images/06_06.png', dpi=300)\n",
    "plt.show()"
   ]
  },
  {
   "cell_type": "code",
   "execution_count": 797,
   "metadata": {
    "code_folding": [
     0
    ]
   },
   "outputs": [
    {
     "data": {
      "image/png": "[encoded data removed]",
      "text/plain": [
       "<Figure size 432x288 with 1 Axes>"
      ]
     },
     "metadata": {
      "needs_background": "light"
     },
     "output_type": "display_data"
    }
   ],
   "source": [
    "## learning rate\n",
    "param_range = [.01,.05,.1, .3, .5,.75,1]\n",
    "train_scores, test_scores = validation_curve(\n",
    "                estimator=boostada, \n",
    "                X=X_train, \n",
    "                y=y_train, \n",
    "                param_name='learning_rate', \n",
    "                param_range=param_range,\n",
    "                cv=5)\n",
    "\n",
    "train_mean = np.mean(train_scores, axis=1)\n",
    "train_std = np.std(train_scores, axis=1)\n",
    "test_mean = np.mean(test_scores, axis=1)\n",
    "test_std = np.std(test_scores, axis=1)\n",
    "\n",
    "plt.plot(param_range, train_mean, \n",
    "         color='blue', marker='o', \n",
    "         markersize=5, label='Training accuracy')\n",
    "\n",
    "plt.fill_between(param_range, train_mean + train_std,\n",
    "                 train_mean - train_std, alpha=0.15,\n",
    "                 color='blue')\n",
    "\n",
    "plt.plot(param_range, test_mean, \n",
    "         color='green', linestyle='--', \n",
    "         marker='s', markersize=5, \n",
    "         label='Validation accuracy')\n",
    "\n",
    "plt.fill_between(param_range, \n",
    "                 test_mean + test_std,\n",
    "                 test_mean - test_std, \n",
    "                 alpha=0.15, color='green')\n",
    "\n",
    "plt.grid()\n",
    "plt.legend(loc='lower right')\n",
    "plt.xlabel('Parameter n')\n",
    "plt.ylabel('Accuracy')\n",
    "plt.ylim([0.3, 1.0])\n",
    "plt.tight_layout()\n",
    "# plt.savefig('images/06_06.png', dpi=300)\n",
    "plt.show()"
   ]
  },
  {
   "cell_type": "code",
   "execution_count": 839,
   "metadata": {
    "code_folding": [
     0
    ]
   },
   "outputs": [
    {
     "name": "stdout",
     "output_type": "stream",
     "text": [
      "feature: TScore, importance: 0.400\n",
      "feature: TFGM, importance: 0.140\n",
      "feature: TAst, importance: 0.100\n",
      "feature: OFGM, importance: 0.080\n",
      "feature: Tseed, importance: 0.080\n",
      "feature: Oseed, importance: 0.080\n",
      "feature: seed_diff, importance: 0.060\n",
      "feature: WP_diff, importance: 0.040\n",
      "feature: com_diff, importance: 0.020\n",
      "feature: score_diff, importance: 0.000\n"
     ]
    }
   ],
   "source": [
    "#feature importances\n",
    "for feat, importance in zip(X_train.columns, reversed(np.sort(boostada.feature_importances_))):\n",
    "    print('feature: %s, importance: %.3f' % (feat, importance))"
   ]
  },
  {
   "cell_type": "code",
   "execution_count": 864,
   "metadata": {
    "code_folding": [
     0
    ]
   },
   "outputs": [
    {
     "data": {
      "image/png": "[encoded data removed]",
      "text/plain": [
       "<Figure size 180x180 with 1 Axes>"
      ]
     },
     "metadata": {
      "needs_background": "light"
     },
     "output_type": "display_data"
    },
    {
     "name": "stdout",
     "output_type": "stream",
     "text": [
      "Test accuracy: 0.709\n",
      "Test Log Loss: 0.623\n"
     ]
    }
   ],
   "source": [
    "#confustion matrix and test results\n",
    "y_pred = boostada.predict(X_test)\n",
    "confmat = confusion_matrix(y_true=y_test, y_pred=y_pred)\n",
    "\n",
    "\n",
    "fig, ax = plt.subplots(figsize=(2.5, 2.5))\n",
    "ax.matshow(confmat, cmap=plt.cm.Blues, alpha=0.3)\n",
    "for i in range(confmat.shape[0]):\n",
    "    for j in range(confmat.shape[1]):\n",
    "        ax.text(x=j, y=i, s=confmat[i, j], va='center', ha='center')\n",
    "\n",
    "plt.xlabel('Predicted label')\n",
    "plt.ylabel('True label')\n",
    "\n",
    "plt.tight_layout()\n",
    "#plt.savefig('images/06_09.png', dpi=300)\n",
    "plt.show()\n",
    "\n",
    "score = boostada.score(X_test, y_test)\n",
    "y_probs = boostada.predict_proba(X_test)[:,1]\n",
    "loss = sklearn.metrics.log_loss(y_test,y_probs)\n",
    "print('Test accuracy: %0.3f' % (score))\n",
    "print('Test Log Loss: %0.3f' % (loss))"
   ]
  },
  {
   "cell_type": "markdown",
   "metadata": {},
   "source": [
    "### Gradient Boost"
   ]
  },
  {
   "cell_type": "code",
   "execution_count": 865,
   "metadata": {},
   "outputs": [
    {
     "name": "stdout",
     "output_type": "stream",
     "text": [
      "Fold:  1, Class dist.: [422 378], Acc: 0.667, 0.609\n",
      "Fold:  2, Class dist.: [422 379], Acc: 0.697, 0.569\n",
      "Fold:  3, Class dist.: [422 379], Acc: 0.607, 0.700\n",
      "Fold:  4, Class dist.: [422 379], Acc: 0.719, 0.481\n",
      "Fold:  5, Class dist.: [422 379], Acc: 0.730, 0.505\n",
      "Fold:  6, Class dist.: [422 379], Acc: 0.640, 0.610\n",
      "Fold:  7, Class dist.: [422 379], Acc: 0.697, 0.548\n",
      "Fold:  8, Class dist.: [422 379], Acc: 0.719, 0.535\n",
      "Fold:  9, Class dist.: [422 379], Acc: 0.663, 0.684\n",
      "Fold: 10, Class dist.: [423 379], Acc: 0.705, 0.601\n",
      "\n",
      "CV accuracy: 0.684 +/- 0.037\n",
      "CV Log Loss: 0.584 +/- 0.068\n"
     ]
    }
   ],
   "source": [
    "boostgrad = GradientBoostingClassifier(learning_rate=.1)\n",
    "kfold = StratifiedKFold(n_splits=10,\n",
    "                        random_state=123).split(X_train, y_train)\n",
    "\n",
    "scores = []\n",
    "losses = []\n",
    "for k, (train, test) in enumerate(kfold):\n",
    "    boostgrad.fit(X_train.iloc[train], y_train.iloc[train])\n",
    "    score = boostgrad.score(X_train.iloc[test], y_train.iloc[test])\n",
    "    scores.append(score)\n",
    "    y_pred = boostgrad.predict_proba(X_train.iloc[test])\n",
    "    loss = log_loss(y_train.iloc[test],y_pred)\n",
    "    losses.append(loss)\n",
    "    print('Fold: %2d, Class dist.: %s, Acc: %.3f, %.3f' % (k+1,\n",
    "          np.bincount(y_train.iloc[train]), score, loss))\n",
    "    \n",
    "print('\\nCV accuracy: %.3f +/- %.3f' % (np.mean(scores), np.std(scores)))\n",
    "print('CV Log Loss: %.3f +/- %.3f' % (np.mean(losses), np.std(losses)))"
   ]
  },
  {
   "cell_type": "code",
   "execution_count": 715,
   "metadata": {},
   "outputs": [
    {
     "name": "stdout",
     "output_type": "stream",
     "text": [
      "feature: TScore, importance: 0.442\n",
      "feature: TFGM, importance: 0.104\n",
      "feature: TAst, importance: 0.081\n",
      "feature: OFGM, importance: 0.080\n",
      "feature: Tseed, importance: 0.075\n",
      "feature: Oseed, importance: 0.061\n",
      "feature: comdiff, importance: 0.060\n",
      "feature: WPdiff, importance: 0.046\n",
      "feature: seeddiff, importance: 0.039\n",
      "feature: scorediff, importance: 0.013\n"
     ]
    }
   ],
   "source": [
    "#feature importances\n",
    "for feat, importance in zip(X_train.columns, reversed(np.sort(boostgrad.feature_importances_))):\n",
    "    print('feature: %s, importance: %.3f' % (feat, importance))"
   ]
  },
  {
   "cell_type": "code",
   "execution_count": 866,
   "metadata": {},
   "outputs": [
    {
     "data": {
      "image/png": "[encoded data removed]",
      "text/plain": [
       "<Figure size 180x180 with 1 Axes>"
      ]
     },
     "metadata": {
      "needs_background": "light"
     },
     "output_type": "display_data"
    },
    {
     "name": "stdout",
     "output_type": "stream",
     "text": [
      "Test accuracy: 0.703\n",
      "Test Log Loss: 0.586\n"
     ]
    }
   ],
   "source": [
    "#confustion matrix and test results\n",
    "y_pred = boostgrad.predict(X_test)\n",
    "confmat = confusion_matrix(y_true=y_test, y_pred=y_pred)\n",
    "\n",
    "\n",
    "fig, ax = plt.subplots(figsize=(2.5, 2.5))\n",
    "ax.matshow(confmat, cmap=plt.cm.Blues, alpha=0.3)\n",
    "for i in range(confmat.shape[0]):\n",
    "    for j in range(confmat.shape[1]):\n",
    "        ax.text(x=j, y=i, s=confmat[i, j], va='center', ha='center')\n",
    "\n",
    "plt.xlabel('Predicted label')\n",
    "plt.ylabel('True label')\n",
    "\n",
    "plt.tight_layout()\n",
    "#plt.savefig('images/06_09.png', dpi=300)\n",
    "plt.show()\n",
    "\n",
    "score = boostgrad.score(X_test, y_test)\n",
    "y_probs = boostgrad.predict_proba(X_test)[:,1]\n",
    "loss = sklearn.metrics.log_loss(y_test,y_probs)\n",
    "print('Test accuracy: %0.3f' % (score))\n",
    "print('Test Log Loss: %0.3f' % (loss))"
   ]
  },
  {
   "cell_type": "markdown",
   "metadata": {},
   "source": [
    "### Stacking"
   ]
  },
  {
   "cell_type": "code",
   "execution_count": 872,
   "metadata": {},
   "outputs": [
    {
     "name": "stdout",
     "output_type": "stream",
     "text": [
      "Accuracy: 0.6840 (+/- 0.04) Log Loss: -0.5872 [Gradient Boost]\n",
      "Accuracy: 0.6917 (+/- 0.04) Log Loss: -0.6132 [Random Forest]\n",
      "Accuracy: 0.6946 (+/- 0.03) Log Loss: -0.5792 [Bagging]\n",
      "Accuracy: 0.6869 (+/- 0.04) Log Loss: -0.7304 [StackingClassifier]\n"
     ]
    }
   ],
   "source": [
    "from sklearn import model_selection\n",
    "from mlxtend.classifier import StackingClassifier\n",
    "from sklearn.linear_model import LogisticRegression\n",
    "import warnings\n",
    "\n",
    "warnings.simplefilter('ignore')\n",
    "\n",
    "clf1 = pipe_knn\n",
    "clf2 = GradientBoostingClassifier(learning_rate=.1)\n",
    "clf3 = AdaBoostClassifier(learning_rate=.1)\n",
    "clf4 = pipe_lr\n",
    "clf5 = bag\n",
    "\n",
    "lr = LogisticRegression()\n",
    "sclf = StackingClassifier(classifiers=[clf2,clf4,clf5], \n",
    "                          use_probas = True,\n",
    "                          average_probas = True,\n",
    "                          meta_classifier=lr)\n",
    "\n",
    "for clf, label in zip([clf2, clf4, clf5, sclf], \n",
    "                      [\n",
    "                       'Gradient Boost', \n",
    "                       \n",
    "                       'Random Forest',\n",
    "                       'Bagging',\n",
    "                       'StackingClassifier']):\n",
    "\n",
    "    scores = model_selection.cross_val_score(clf, X, y, \n",
    "                                              cv=10, scoring='accuracy')\n",
    "    loss = model_selection.cross_val_score(clf, X, y, \n",
    "                                              cv=10, scoring='neg_log_loss')\n",
    "    print(\"Accuracy: %0.4f (+/- %0.2f) Log Loss: %0.4f [%s]\" \n",
    "          % (scores.mean(), scores.std(), loss.mean(), label))"
   ]
  },
  {
   "cell_type": "code",
   "execution_count": 873,
   "metadata": {},
   "outputs": [
    {
     "data": {
      "image/png": "[encoded data removed]",
      "text/plain": [
       "<Figure size 180x180 with 1 Axes>"
      ]
     },
     "metadata": {
      "needs_background": "light"
     },
     "output_type": "display_data"
    },
    {
     "name": "stdout",
     "output_type": "stream",
     "text": [
      "Test accuracy: 0.703\n",
      "Test Log Loss: 0.551\n"
     ]
    }
   ],
   "source": [
    "\n",
    "sclf.fit(X_train,y_train)\n",
    "\n",
    "y_pred = sclf.predict(X_test)\n",
    "confmat = confusion_matrix(y_true=y_test, y_pred=y_pred)\n",
    "\n",
    "\n",
    "fig, ax = plt.subplots(figsize=(2.5, 2.5))\n",
    "ax.matshow(confmat, cmap=plt.cm.Blues, alpha=0.3)\n",
    "for i in range(confmat.shape[0]):\n",
    "    for j in range(confmat.shape[1]):\n",
    "        ax.text(x=j, y=i, s=confmat[i, j], va='center', ha='center')\n",
    "\n",
    "plt.xlabel('Predicted label')\n",
    "plt.ylabel('True label')\n",
    "\n",
    "plt.tight_layout()\n",
    "#plt.savefig('images/06_09.png', dpi=300)\n",
    "plt.show()\n",
    "\n",
    "score = sclf.score(X_test, y_test)\n",
    "y_probs = sclf.predict_meta_features(X_test)[:,1]\n",
    "loss = sklearn.metrics.log_loss(y_test,y_probs)\n",
    "print('Test accuracy: %0.3f' % (score))\n",
    "print('Test Log Loss: %0.3f' % (loss))"
   ]
  }
 ],
 "metadata": {
  "kernelspec": {
   "display_name": "Python 3",
   "language": "python",
   "name": "python3"
  },
  "language_info": {
   "codemirror_mode": {
    "name": "ipython",
    "version": 3
   },
   "file_extension": ".py",
   "mimetype": "text/x-python",
   "name": "python",
   "nbconvert_exporter": "python",
   "pygments_lexer": "ipython3",
   "version": "3.7.3"
  },
  "varInspector": {
   "cols": {
    "lenName": 16,
    "lenType": 16,
    "lenVar": 40
   },
   "kernels_config": {
    "python": {
     "delete_cmd_postfix": "",
     "delete_cmd_prefix": "del ",
     "library": "var_list.py",
     "varRefreshCmd": "print(var_dic_list())"
    },
    "r": {
     "delete_cmd_postfix": ") ",
     "delete_cmd_prefix": "rm(",
     "library": "var_list.r",
     "varRefreshCmd": "cat(var_dic_list()) "
    }
   },
   "types_to_exclude": [
    "module",
    "function",
    "builtin_function_or_method",
    "instance",
    "_Feature"
   ],
   "window_display": false
  }
 },
 "nbformat": 4,
 "nbformat_minor": 2
}
